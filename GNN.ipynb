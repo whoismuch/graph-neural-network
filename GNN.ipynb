{
 "cells": [
  {
   "cell_type": "code",
   "execution_count": 14,
   "outputs": [],
   "source": [
    "import json\n",
    "import pandas as pd\n",
    "from pathlib import Path\n",
    "\n",
    "import torch.nn as nn\n",
    "import tensorflow as tf\n",
    "from tensorflow import keras\n",
    "\n",
    "from tensorflow.keras import layers\n",
    "\n",
    "\n",
    "from typing import Dict, List, Callable\n",
    "\n",
    "import numpy as np\n",
    "import tensorflow as tf\n",
    "from tensorflow.keras.layers import Dense, Input, Concatenate, Add, Embedding, Dropout\n",
    "from tensorflow.keras.models import Model\n",
    "from tensorflow.keras.optimizers import Adam\n",
    "from tensorflow.keras.regularizers import l2\n",
    "\n",
    "from megnet.activations import softplus2\n",
    "from megnet.config import DataType\n",
    "from megnet.data.crystal import CrystalGraph\n",
    "from megnet.data.graph import GaussianDistance, StructureGraph\n",
    "from megnet.layers import MEGNetLayer, Set2Set, GaussianExpansion\n",
    "from megnet.utils.preprocessing import DummyScaler, Scaler\n",
    "from megnet.models.base import GraphModel\n",
    "\n",
    "import torch\n",
    "import torch.nn as nn\n",
    "\n",
    "\n",
    "from pymatgen.core import Structure\n",
    "from sklearn.model_selection import train_test_split\n",
    "\n",
    "\n",
    "from pathlib import Path"
   ],
   "metadata": {
    "collapsed": false,
    "ExecuteTime": {
     "end_time": "2024-01-21T19:59:08.867267Z",
     "start_time": "2024-01-21T19:59:08.848705Z"
    }
   },
   "id": "f0170d99bef6dfcc"
  },
  {
   "cell_type": "markdown",
   "source": [
    "# Utils"
   ],
   "metadata": {
    "collapsed": false
   },
   "id": "6b512625f9cb9cb4"
  },
  {
   "cell_type": "code",
   "execution_count": 38,
   "outputs": [],
   "source": [
    "def read_pymatgen_struct(file):\n",
    "    with open(file, \"r\") as f:\n",
    "        d = json.load(f)\n",
    "    return Structure.from_dict(d)\n",
    "\n",
    "def prepare_dataset():\n",
    "    dataset_path = 'dichalcogenides_public'\n",
    "    dataset_path = Path(dataset_path)\n",
    "    targets = pd.read_csv(dataset_path / \"targets.csv\", index_col=0)\n",
    "    struct = {\n",
    "        item.name.strip(\".json\"): read_pymatgen_struct(item)\n",
    "        for item in (dataset_path / \"structures\").iterdir()\n",
    "    }\n",
    "\n",
    "    data = pd.DataFrame(columns=[\"structures\"], index=struct.keys())\n",
    "    data = data.assign(structures=struct.values(), targets=targets)\n",
    "\n",
    "    return train_test_split(data, test_size=0.25, random_state=666)\n",
    "\n",
    "def energy_within_threshold(prediction, target):\n",
    "    # compute absolute error on energy per system.\n",
    "    # then count the no. of systems where max energy error is < 0.02.\n",
    "    e_thresh = 0.02\n",
    "    error_energy = tf.math.abs(target - prediction)\n",
    "\n",
    "    success = tf.math.count_nonzero(error_energy < e_thresh)\n",
    "    total = tf.size(target)\n",
    "    return success / tf.cast(total, tf.int64)\n",
    "\n",
    "class PreConvLayer(tf.keras.layers.Layer):\n",
    "    def __init__(self, name_prefix=None):\n",
    "        super(PreConvLayer, self).__init__(name=name_prefix)\n",
    "        self.conv1 = layers.Conv1D(64, kernel_size=3, activation='relu', padding='same')\n",
    "        self.conv2 = layers.Conv1D(32, kernel_size=3, activation='relu', padding='same')\n",
    "\n",
    "    def call(self, inputs):\n",
    "        x = self.conv1(inputs)\n",
    "        return self.conv2(x)\n",
    "\n",
    "class PostDenseLayer(tf.keras.layers.Layer):\n",
    "    def __init__(self, name_prefix=None):\n",
    "        super(PostDenseLayer, self).__init__(name=name_prefix)\n",
    "        self.fc1 = layers.Dense(32, activation='relu')\n",
    "        self.fc2 = layers.Dense(16, activation='relu')\n",
    "\n",
    "    def call(self, inputs):\n",
    "        x = self.fc1(inputs)\n",
    "        return self.fc2(x)\n"
   ],
   "metadata": {
    "collapsed": false,
    "ExecuteTime": {
     "end_time": "2024-01-22T10:41:42.893065Z",
     "start_time": "2024-01-22T10:41:42.879917Z"
    }
   },
   "id": "998c0f9ea08ac0ac"
  },
  {
   "cell_type": "markdown",
   "source": [
    "# Data"
   ],
   "metadata": {
    "collapsed": false
   },
   "id": "643282d45dfdbf73"
  },
  {
   "cell_type": "code",
   "execution_count": 6,
   "outputs": [
    {
     "data": {
      "text/plain": "Structure Summary\nLattice\n    abc : 25.5225256 25.5225256 14.879004\n angles : 90.0 90.0 119.99999999999999\n volume : 8393.668021812642\n      A : 25.5225256 0.0 1.5628039641098191e-15\n      B : -12.761262799999994 22.10315553833868 1.5628039641098191e-15\n      C : 0.0 0.0 14.879004\n    pbc : True True True\nPeriodicSite: Mo (1.276e-07, 1.842, 3.72) [0.04167, 0.08333, 0.25]\nPeriodicSite: Mo (-1.595, 4.605, 3.72) [0.04167, 0.2083, 0.25]\nPeriodicSite: Mo (-3.19, 7.368, 3.72) [0.04167, 0.3333, 0.25]\nPeriodicSite: Mo (-4.785, 10.13, 3.72) [0.04167, 0.4583, 0.25]\nPeriodicSite: Mo (-6.381, 12.89, 3.72) [0.04167, 0.5833, 0.25]\nPeriodicSite: Mo (-7.976, 15.66, 3.72) [0.04167, 0.7083, 0.25]\nPeriodicSite: Mo (-9.571, 18.42, 3.72) [0.04167, 0.8333, 0.25]\nPeriodicSite: Mo (-11.17, 21.18, 3.72) [0.04167, 0.9583, 0.25]\nPeriodicSite: Mo (3.19, 1.842, 3.72) [0.1667, 0.08333, 0.25]\nPeriodicSite: Mo (1.595, 4.605, 3.72) [0.1667, 0.2083, 0.25]\nPeriodicSite: Mo (8.508e-08, 7.368, 3.72) [0.1667, 0.3333, 0.25]\nPeriodicSite: Mo (-1.595, 10.13, 3.72) [0.1667, 0.4583, 0.25]\nPeriodicSite: Mo (-3.19, 12.89, 3.72) [0.1667, 0.5833, 0.25]\nPeriodicSite: Mo (-4.785, 15.66, 3.72) [0.1667, 0.7083, 0.25]\nPeriodicSite: Mo (-6.381, 18.42, 3.72) [0.1667, 0.8333, 0.25]\nPeriodicSite: Mo (-7.976, 21.18, 3.72) [0.1667, 0.9583, 0.25]\nPeriodicSite: Mo (6.381, 1.842, 3.72) [0.2917, 0.08333, 0.25]\nPeriodicSite: Mo (4.785, 4.605, 3.72) [0.2917, 0.2083, 0.25]\nPeriodicSite: Mo (3.19, 7.368, 3.72) [0.2917, 0.3333, 0.25]\nPeriodicSite: Mo (1.595, 10.13, 3.72) [0.2917, 0.4583, 0.25]\nPeriodicSite: Mo (1.276e-07, 12.89, 3.72) [0.2917, 0.5833, 0.25]\nPeriodicSite: Mo (-1.595, 15.66, 3.72) [0.2917, 0.7083, 0.25]\nPeriodicSite: Mo (-3.19, 18.42, 3.72) [0.2917, 0.8333, 0.25]\nPeriodicSite: Mo (-4.785, 21.18, 3.72) [0.2917, 0.9583, 0.25]\nPeriodicSite: Mo (9.571, 1.842, 3.72) [0.4167, 0.08333, 0.25]\nPeriodicSite: Mo (7.976, 4.605, 3.72) [0.4167, 0.2083, 0.25]\nPeriodicSite: Mo (6.381, 7.368, 3.72) [0.4167, 0.3333, 0.25]\nPeriodicSite: Mo (4.785, 10.13, 3.72) [0.4167, 0.4583, 0.25]\nPeriodicSite: Mo (3.19, 12.89, 3.72) [0.4167, 0.5833, 0.25]\nPeriodicSite: Mo (1.595, 15.66, 3.72) [0.4167, 0.7083, 0.25]\nPeriodicSite: Mo (1.276e-07, 18.42, 3.72) [0.4167, 0.8333, 0.25]\nPeriodicSite: Mo (-1.595, 21.18, 3.72) [0.4167, 0.9583, 0.25]\nPeriodicSite: Mo (11.17, 4.605, 3.72) [0.5417, 0.2083, 0.25]\nPeriodicSite: Mo (9.571, 7.368, 3.72) [0.5417, 0.3333, 0.25]\nPeriodicSite: Mo (7.976, 10.13, 3.72) [0.5417, 0.4583, 0.25]\nPeriodicSite: Mo (6.381, 12.89, 3.72) [0.5417, 0.5833, 0.25]\nPeriodicSite: Mo (4.785, 15.66, 3.72) [0.5417, 0.7083, 0.25]\nPeriodicSite: Mo (3.19, 18.42, 3.72) [0.5417, 0.8333, 0.25]\nPeriodicSite: Mo (1.595, 21.18, 3.72) [0.5417, 0.9583, 0.25]\nPeriodicSite: Mo (15.95, 1.842, 3.72) [0.6667, 0.08333, 0.25]\nPeriodicSite: Mo (14.36, 4.605, 3.72) [0.6667, 0.2083, 0.25]\nPeriodicSite: Mo (12.76, 7.368, 3.72) [0.6667, 0.3333, 0.25]\nPeriodicSite: Mo (11.17, 10.13, 3.72) [0.6667, 0.4583, 0.25]\nPeriodicSite: Mo (9.571, 12.89, 3.72) [0.6667, 0.5833, 0.25]\nPeriodicSite: Mo (7.976, 15.66, 3.72) [0.6667, 0.7083, 0.25]\nPeriodicSite: Mo (6.381, 18.42, 3.72) [0.6667, 0.8333, 0.25]\nPeriodicSite: Mo (4.785, 21.18, 3.72) [0.6667, 0.9583, 0.25]\nPeriodicSite: Mo (19.14, 1.842, 3.72) [0.7917, 0.08333, 0.25]\nPeriodicSite: Mo (17.55, 4.605, 3.72) [0.7917, 0.2083, 0.25]\nPeriodicSite: Mo (15.95, 7.368, 3.72) [0.7917, 0.3333, 0.25]\nPeriodicSite: Mo (14.36, 10.13, 3.72) [0.7917, 0.4583, 0.25]\nPeriodicSite: Mo (12.76, 12.89, 3.72) [0.7917, 0.5833, 0.25]\nPeriodicSite: Mo (11.17, 15.66, 3.72) [0.7917, 0.7083, 0.25]\nPeriodicSite: Mo (9.571, 18.42, 3.72) [0.7917, 0.8333, 0.25]\nPeriodicSite: Mo (7.976, 21.18, 3.72) [0.7917, 0.9583, 0.25]\nPeriodicSite: Mo (22.33, 1.842, 3.72) [0.9167, 0.08333, 0.25]\nPeriodicSite: Mo (20.74, 4.605, 3.72) [0.9167, 0.2083, 0.25]\nPeriodicSite: Mo (19.14, 7.368, 3.72) [0.9167, 0.3333, 0.25]\nPeriodicSite: Mo (17.55, 10.13, 3.72) [0.9167, 0.4583, 0.25]\nPeriodicSite: Mo (15.95, 12.89, 3.72) [0.9167, 0.5833, 0.25]\nPeriodicSite: Mo (14.36, 15.66, 3.72) [0.9167, 0.7083, 0.25]\nPeriodicSite: Mo (12.76, 18.42, 3.72) [0.9167, 0.8333, 0.25]\nPeriodicSite: Mo (11.17, 21.18, 3.72) [0.9167, 0.9583, 0.25]\nPeriodicSite: W (12.76, 1.842, 3.72) [0.5417, 0.08333, 0.25]\nPeriodicSite: Se (-1.276e-07, 3.684, 2.155) [0.08333, 0.1667, 0.1448]\nPeriodicSite: S (1.595, 0.921, 2.155) [0.08333, 0.04167, 0.1448]\nPeriodicSite: S (-1.595, 6.447, 2.155) [0.08333, 0.2917, 0.1448]\nPeriodicSite: S (-3.19, 9.21, 2.155) [0.08333, 0.4167, 0.1448]\nPeriodicSite: S (-4.785, 11.97, 2.155) [0.08333, 0.5417, 0.1448]\nPeriodicSite: S (-6.381, 14.74, 2.155) [0.08333, 0.6667, 0.1448]\nPeriodicSite: S (-7.976, 17.5, 2.155) [0.08333, 0.7917, 0.1448]\nPeriodicSite: S (-9.571, 20.26, 2.155) [0.08333, 0.9167, 0.1448]\nPeriodicSite: S (4.785, 0.921, 2.155) [0.2083, 0.04167, 0.1448]\nPeriodicSite: S (3.19, 3.684, 2.155) [0.2083, 0.1667, 0.1448]\nPeriodicSite: S (1.595, 6.447, 2.155) [0.2083, 0.2917, 0.1448]\nPeriodicSite: S (-1.276e-07, 9.21, 2.155) [0.2083, 0.4167, 0.1448]\nPeriodicSite: S (-1.595, 11.97, 2.155) [0.2083, 0.5417, 0.1448]\nPeriodicSite: S (-3.19, 14.74, 2.155) [0.2083, 0.6667, 0.1448]\nPeriodicSite: S (-4.785, 17.5, 2.155) [0.2083, 0.7917, 0.1448]\nPeriodicSite: S (-6.381, 20.26, 2.155) [0.2083, 0.9167, 0.1448]\nPeriodicSite: S (7.976, 0.921, 2.155) [0.3333, 0.04167, 0.1448]\nPeriodicSite: S (6.381, 3.684, 2.155) [0.3333, 0.1667, 0.1448]\nPeriodicSite: S (4.785, 6.447, 2.155) [0.3333, 0.2917, 0.1448]\nPeriodicSite: S (3.19, 9.21, 2.155) [0.3333, 0.4167, 0.1448]\nPeriodicSite: S (1.595, 11.97, 2.155) [0.3333, 0.5417, 0.1448]\nPeriodicSite: S (4.025e-15, 14.74, 2.155) [0.3333, 0.6667, 0.1448]\nPeriodicSite: S (-1.595, 17.5, 2.155) [0.3333, 0.7917, 0.1448]\nPeriodicSite: S (-3.19, 20.26, 2.155) [0.3333, 0.9167, 0.1448]\nPeriodicSite: S (11.17, 0.921, 2.155) [0.4583, 0.04167, 0.1448]\nPeriodicSite: S (9.571, 3.684, 2.155) [0.4583, 0.1667, 0.1448]\nPeriodicSite: S (7.976, 6.447, 2.155) [0.4583, 0.2917, 0.1448]\nPeriodicSite: S (6.381, 9.21, 2.155) [0.4583, 0.4167, 0.1448]\nPeriodicSite: S (4.785, 11.97, 2.155) [0.4583, 0.5417, 0.1448]\nPeriodicSite: S (3.19, 14.74, 2.155) [0.4583, 0.6667, 0.1448]\nPeriodicSite: S (1.595, 17.5, 2.155) [0.4583, 0.7917, 0.1448]\nPeriodicSite: S (-1.276e-07, 20.26, 2.155) [0.4583, 0.9167, 0.1448]\nPeriodicSite: S (14.36, 0.921, 2.155) [0.5833, 0.04167, 0.1448]\nPeriodicSite: S (12.76, 3.684, 2.155) [0.5833, 0.1667, 0.1448]\nPeriodicSite: S (11.17, 6.447, 2.155) [0.5833, 0.2917, 0.1448]\nPeriodicSite: S (9.571, 9.21, 2.155) [0.5833, 0.4167, 0.1448]\nPeriodicSite: S (7.976, 11.97, 2.155) [0.5833, 0.5417, 0.1448]\nPeriodicSite: S (6.381, 14.74, 2.155) [0.5833, 0.6667, 0.1448]\nPeriodicSite: S (4.785, 17.5, 2.155) [0.5833, 0.7917, 0.1448]\nPeriodicSite: S (3.19, 20.26, 2.155) [0.5833, 0.9167, 0.1448]\nPeriodicSite: S (17.55, 0.921, 2.155) [0.7083, 0.04167, 0.1448]\nPeriodicSite: S (15.95, 3.684, 2.155) [0.7083, 0.1667, 0.1448]\nPeriodicSite: S (14.36, 6.447, 2.155) [0.7083, 0.2917, 0.1448]\nPeriodicSite: S (12.76, 9.21, 2.155) [0.7083, 0.4167, 0.1448]\nPeriodicSite: S (11.17, 11.97, 2.155) [0.7083, 0.5417, 0.1448]\nPeriodicSite: S (9.571, 14.74, 2.155) [0.7083, 0.6667, 0.1448]\nPeriodicSite: S (7.976, 17.5, 2.155) [0.7083, 0.7917, 0.1448]\nPeriodicSite: S (6.381, 20.26, 2.155) [0.7083, 0.9167, 0.1448]\nPeriodicSite: S (20.74, 0.921, 2.155) [0.8333, 0.04167, 0.1448]\nPeriodicSite: S (19.14, 3.684, 2.155) [0.8333, 0.1667, 0.1448]\nPeriodicSite: S (17.55, 6.447, 2.155) [0.8333, 0.2917, 0.1448]\nPeriodicSite: S (15.95, 9.21, 2.155) [0.8333, 0.4167, 0.1448]\nPeriodicSite: S (14.36, 11.97, 2.155) [0.8333, 0.5417, 0.1448]\nPeriodicSite: S (12.76, 14.74, 2.155) [0.8333, 0.6667, 0.1448]\nPeriodicSite: S (11.17, 17.5, 2.155) [0.8333, 0.7917, 0.1448]\nPeriodicSite: S (9.571, 20.26, 2.155) [0.8333, 0.9167, 0.1448]\nPeriodicSite: S (23.93, 0.921, 2.155) [0.9583, 0.04167, 0.1448]\nPeriodicSite: S (22.33, 3.684, 2.155) [0.9583, 0.1667, 0.1448]\nPeriodicSite: S (20.74, 6.447, 2.155) [0.9583, 0.2917, 0.1448]\nPeriodicSite: S (19.14, 9.21, 2.155) [0.9583, 0.4167, 0.1448]\nPeriodicSite: S (17.55, 11.97, 2.155) [0.9583, 0.5417, 0.1448]\nPeriodicSite: S (15.95, 14.74, 2.155) [0.9583, 0.6667, 0.1448]\nPeriodicSite: S (14.36, 17.5, 2.155) [0.9583, 0.7917, 0.1448]\nPeriodicSite: S (12.76, 20.26, 2.155) [0.9583, 0.9167, 0.1448]\nPeriodicSite: S (1.595, 0.921, 5.285) [0.08333, 0.04167, 0.3552]\nPeriodicSite: S (-1.276e-07, 3.684, 5.285) [0.08333, 0.1667, 0.3552]\nPeriodicSite: S (-1.595, 6.447, 5.285) [0.08333, 0.2917, 0.3552]\nPeriodicSite: S (-3.19, 9.21, 5.285) [0.08333, 0.4167, 0.3552]\nPeriodicSite: S (-4.785, 11.97, 5.285) [0.08333, 0.5417, 0.3552]\nPeriodicSite: S (-6.381, 14.74, 5.285) [0.08333, 0.6667, 0.3552]\nPeriodicSite: S (-7.976, 17.5, 5.285) [0.08333, 0.7917, 0.3552]\nPeriodicSite: S (-9.571, 20.26, 5.285) [0.08333, 0.9167, 0.3552]\nPeriodicSite: S (4.785, 0.921, 5.285) [0.2083, 0.04167, 0.3552]\nPeriodicSite: S (3.19, 3.684, 5.285) [0.2083, 0.1667, 0.3552]\nPeriodicSite: S (-1.276e-07, 9.21, 5.285) [0.2083, 0.4167, 0.3552]\nPeriodicSite: S (-1.595, 11.97, 5.285) [0.2083, 0.5417, 0.3552]\nPeriodicSite: S (-3.19, 14.74, 5.285) [0.2083, 0.6667, 0.3552]\nPeriodicSite: S (-4.785, 17.5, 5.285) [0.2083, 0.7917, 0.3552]\nPeriodicSite: S (-6.381, 20.26, 5.285) [0.2083, 0.9167, 0.3552]\nPeriodicSite: S (7.976, 0.921, 5.285) [0.3333, 0.04167, 0.3552]\nPeriodicSite: S (6.381, 3.684, 5.285) [0.3333, 0.1667, 0.3552]\nPeriodicSite: S (4.785, 6.447, 5.285) [0.3333, 0.2917, 0.3552]\nPeriodicSite: S (3.19, 9.21, 5.285) [0.3333, 0.4167, 0.3552]\nPeriodicSite: S (1.595, 11.97, 5.285) [0.3333, 0.5417, 0.3552]\nPeriodicSite: S (4.025e-15, 14.74, 5.285) [0.3333, 0.6667, 0.3552]\nPeriodicSite: S (-1.595, 17.5, 5.285) [0.3333, 0.7917, 0.3552]\nPeriodicSite: S (-3.19, 20.26, 5.285) [0.3333, 0.9167, 0.3552]\nPeriodicSite: S (11.17, 0.921, 5.285) [0.4583, 0.04167, 0.3552]\nPeriodicSite: S (9.571, 3.684, 5.285) [0.4583, 0.1667, 0.3552]\nPeriodicSite: S (7.976, 6.447, 5.285) [0.4583, 0.2917, 0.3552]\nPeriodicSite: S (6.381, 9.21, 5.285) [0.4583, 0.4167, 0.3552]\nPeriodicSite: S (4.785, 11.97, 5.285) [0.4583, 0.5417, 0.3552]\nPeriodicSite: S (3.19, 14.74, 5.285) [0.4583, 0.6667, 0.3552]\nPeriodicSite: S (1.595, 17.5, 5.285) [0.4583, 0.7917, 0.3552]\nPeriodicSite: S (-1.276e-07, 20.26, 5.285) [0.4583, 0.9167, 0.3552]\nPeriodicSite: S (14.36, 0.921, 5.285) [0.5833, 0.04167, 0.3552]\nPeriodicSite: S (12.76, 3.684, 5.285) [0.5833, 0.1667, 0.3552]\nPeriodicSite: S (11.17, 6.447, 5.285) [0.5833, 0.2917, 0.3552]\nPeriodicSite: S (9.571, 9.21, 5.285) [0.5833, 0.4167, 0.3552]\nPeriodicSite: S (7.976, 11.97, 5.285) [0.5833, 0.5417, 0.3552]\nPeriodicSite: S (6.381, 14.74, 5.285) [0.5833, 0.6667, 0.3552]\nPeriodicSite: S (4.785, 17.5, 5.285) [0.5833, 0.7917, 0.3552]\nPeriodicSite: S (3.19, 20.26, 5.285) [0.5833, 0.9167, 0.3552]\nPeriodicSite: S (17.55, 0.921, 5.285) [0.7083, 0.04167, 0.3552]\nPeriodicSite: S (15.95, 3.684, 5.285) [0.7083, 0.1667, 0.3552]\nPeriodicSite: S (14.36, 6.447, 5.285) [0.7083, 0.2917, 0.3552]\nPeriodicSite: S (12.76, 9.21, 5.285) [0.7083, 0.4167, 0.3552]\nPeriodicSite: S (11.17, 11.97, 5.285) [0.7083, 0.5417, 0.3552]\nPeriodicSite: S (9.571, 14.74, 5.285) [0.7083, 0.6667, 0.3552]\nPeriodicSite: S (7.976, 17.5, 5.285) [0.7083, 0.7917, 0.3552]\nPeriodicSite: S (6.381, 20.26, 5.285) [0.7083, 0.9167, 0.3552]\nPeriodicSite: S (20.74, 0.921, 5.285) [0.8333, 0.04167, 0.3552]\nPeriodicSite: S (19.14, 3.684, 5.285) [0.8333, 0.1667, 0.3552]\nPeriodicSite: S (17.55, 6.447, 5.285) [0.8333, 0.2917, 0.3552]\nPeriodicSite: S (15.95, 9.21, 5.285) [0.8333, 0.4167, 0.3552]\nPeriodicSite: S (14.36, 11.97, 5.285) [0.8333, 0.5417, 0.3552]\nPeriodicSite: S (12.76, 14.74, 5.285) [0.8333, 0.6667, 0.3552]\nPeriodicSite: S (11.17, 17.5, 5.285) [0.8333, 0.7917, 0.3552]\nPeriodicSite: S (9.571, 20.26, 5.285) [0.8333, 0.9167, 0.3552]\nPeriodicSite: S (23.93, 0.921, 5.285) [0.9583, 0.04167, 0.3552]\nPeriodicSite: S (22.33, 3.684, 5.285) [0.9583, 0.1667, 0.3552]\nPeriodicSite: S (20.74, 6.447, 5.285) [0.9583, 0.2917, 0.3552]\nPeriodicSite: S (19.14, 9.21, 5.285) [0.9583, 0.4167, 0.3552]\nPeriodicSite: S (17.55, 11.97, 5.285) [0.9583, 0.5417, 0.3552]\nPeriodicSite: S (15.95, 14.74, 5.285) [0.9583, 0.6667, 0.3552]\nPeriodicSite: S (14.36, 17.5, 5.285) [0.9583, 0.7917, 0.3552]\nPeriodicSite: S (12.76, 20.26, 5.285) [0.9583, 0.9167, 0.3552]"
     },
     "execution_count": 6,
     "metadata": {},
     "output_type": "execute_result"
    }
   ],
   "source": [
    "train, test = prepare_dataset()\n",
    "train.iloc[0,0]"
   ],
   "metadata": {
    "collapsed": false,
    "ExecuteTime": {
     "end_time": "2024-01-21T19:48:50.787745Z",
     "start_time": "2024-01-21T19:48:41.238630Z"
    }
   },
   "id": "3111e3864c114be9"
  },
  {
   "cell_type": "code",
   "execution_count": 7,
   "outputs": [
    {
     "data": {
      "text/plain": "1.1355"
     },
     "execution_count": 7,
     "metadata": {},
     "output_type": "execute_result"
    }
   ],
   "source": [
    "train.iloc[0, 1]"
   ],
   "metadata": {
    "collapsed": false,
    "ExecuteTime": {
     "end_time": "2024-01-21T19:48:53.234166Z",
     "start_time": "2024-01-21T19:48:53.213882Z"
    }
   },
   "id": "fa74029c81b5db2"
  },
  {
   "cell_type": "markdown",
   "source": [
    "# Model"
   ],
   "metadata": {
    "collapsed": false
   },
   "id": "3af137b9ebc2647e"
  },
  {
   "cell_type": "code",
   "execution_count": 39,
   "outputs": [],
   "source": [
    "def prepare_model(cutoff, lr, pre_layer, post_layer):\n",
    "    nfeat_bond = 10\n",
    "    r_cutoff = cutoff\n",
    "    gaussian_centers = np.linspace(0, r_cutoff + 1, nfeat_bond)\n",
    "    gaussian_width = 0.8\n",
    "    \n",
    "    return GNNModel(\n",
    "        pre_layer=pre_layer,\n",
    "        post_layer=post_layer,\n",
    "        graph_converter=CrystalGraph(cutoff=r_cutoff),\n",
    "        centers=gaussian_centers,\n",
    "        width=gaussian_width,\n",
    "        loss=[\"MAE\"],\n",
    "        npass=2,\n",
    "        learning_rate=lr,\n",
    "        metrics=energy_within_threshold,\n",
    "        n3=32\n",
    "    )"
   ],
   "metadata": {
    "collapsed": false,
    "ExecuteTime": {
     "end_time": "2024-01-22T10:41:46.809906Z",
     "start_time": "2024-01-22T10:41:46.802771Z"
    }
   },
   "id": "ff436049fd19cc4e"
  },
  {
   "cell_type": "code",
   "execution_count": 40,
   "outputs": [],
   "source": [
    "class GNNModel(GraphModel):\n",
    "    \"\"\"\n",
    "    Construct a graph network model with or without explicit atom features\n",
    "    if n_feature is specified then a general graph model is assumed,\n",
    "    otherwise a crystal graph model with z number as atom feature is assumed.\n",
    "    \"\"\"\n",
    "\n",
    "    def __init__(\n",
    "        self,\n",
    "        pre_layer = None,\n",
    "        post_layer = None,\n",
    "        nblocks: int = 3,\n",
    "        n1: int = 64,\n",
    "        n2: int = 32,\n",
    "        n3: int = 16,\n",
    "        learning_rate: float = 1e-3,\n",
    "        nvocal: int = 95,\n",
    "        embedding_dim: int = 16,\n",
    "        npass: int = 3,\n",
    "        ntarget: int = 1,\n",
    "        act: Callable = softplus2,\n",
    "        loss: str = \"mse\",\n",
    "        metrics: List[str] = None,\n",
    "        graph_converter: StructureGraph = None,\n",
    "        target_scaler: Scaler = DummyScaler(),\n",
    "        optimizer_kwargs: Dict = {\"clipnorm\": 3},\n",
    "        centers = None,\n",
    "        width = None\n",
    "    ):\n",
    "\n",
    "        # Build the MEG Model\n",
    "        model = make_gnn_model(\n",
    "            pre_layer=pre_layer,\n",
    "            post_layer=post_layer,\n",
    "            nblocks=nblocks,\n",
    "            n1=n1,\n",
    "            n2=n2,\n",
    "            n3=n3,\n",
    "            nvocal=nvocal,\n",
    "            embedding_dim=embedding_dim,\n",
    "            npass=npass,\n",
    "            ntarget=ntarget,\n",
    "            act=act,\n",
    "            centers=centers,\n",
    "            width=width\n",
    "    \n",
    "        )\n",
    "\n",
    "        opt_params = {\"learning_rate\": learning_rate}\n",
    "        if optimizer_kwargs is not None:\n",
    "            opt_params.update(optimizer_kwargs)\n",
    "        model.compile(Adam(**opt_params), loss, metrics=metrics)\n",
    "\n",
    "        if graph_converter is None:\n",
    "            graph_converter = CrystalGraph(cutoff=4, bond_converter=GaussianDistance(np.linspace(0, 5, 100), 0.5))\n",
    "\n",
    "        super().__init__(model=model, target_scaler=target_scaler, graph_converter=graph_converter)\n",
    "        \n"
   ],
   "metadata": {
    "collapsed": false,
    "ExecuteTime": {
     "end_time": "2024-01-22T10:41:47.955029Z",
     "start_time": "2024-01-22T10:41:47.949462Z"
    }
   },
   "id": "fb56d5f4ff7bbca2"
  },
  {
   "cell_type": "code",
   "execution_count": 41,
   "outputs": [],
   "source": [
    "def make_gnn_model(\n",
    "    pre_layer = None, # model between input and first MEGNetLayer\n",
    "    post_layer = None, # model between concatenate and output\n",
    "    nblocks: int = 3, # number of MEGNetLayer blocks\n",
    "    n1: int = 64, # number of hidden units in layer 1 in MEGNetLayer\n",
    "    n2: int = 32, # number of hidden units in layer 2 in MEGNetLayer\n",
    "    n3: int = 16, # number of hidden units in layer 3 in MEGNetLayer\n",
    "    nvocal: int = 95, # number of total element\n",
    "    embedding_dim: int = 16, # number of embedding dimension\n",
    "    npass: int = 3, # number of recurrent steps in Set2Set layer\n",
    "    ntarget: int = 1, # number of output targets\n",
    "    act: Callable = softplus2, # activation function\n",
    "    centers = None, # array for defining the Gaussian expansion centers\n",
    "    width = None # width for the Gaussian basis\n",
    ") -> Model:\n",
    "    \n",
    "    # ембеддинг для атомов (Это позволяет модели учитывать типы атомов)\n",
    "    x1 = Input(shape=(None,), dtype=DataType.tf_int, name=\"atom_int_input\") \n",
    "    x1_ = Embedding(nvocal, embedding_dim, name=\"atom_embedding\")(x1)\n",
    "\n",
    "    # преобразование Гауссовского расширения для атрибутов связей. Это позволяет учитывать расстояния между атомами\n",
    "    x2 = Input(shape=(None,), dtype=DataType.tf_float, name=\"bond_float_input\")\n",
    "    x2_ = GaussianExpansion(centers=centers, width=width)(x2)  # type: ignore\n",
    " \n",
    "\n",
    "    # state inputs (заряды атомов, их массы или другие физические параметры)\n",
    "    # take default vector of two zeros\n",
    "    x3 = Input(shape=(None, 2), dtype=DataType.tf_float, name=\"state_default_input\")\n",
    "    x3_ = x3\n",
    "\n",
    "    #  представляют собой индексы, связанные с графом молекулы. Эти индексы указывают на то, какие атомы соединены связями и какие связи существуют между атомами\n",
    "    x4 = Input(shape=(None,), dtype=DataType.tf_int, name=\"bond_index_1_input\")\n",
    "    x5 = Input(shape=(None,), dtype=DataType.tf_int, name=\"bond_index_2_input\")\n",
    "    x6 = Input(shape=(None,), dtype=DataType.tf_int, name=\"atom_graph_index_input\")\n",
    "    x7 = Input(shape=(None,), dtype=DataType.tf_int, name=\"bond_graph_index_input\")\n",
    "\n",
    "\n",
    "    # соответствует слою предобработки + одному слою MEGNetLayer.\n",
    "    def one_block(a, b, c, has_ff=True, block_index=0):\n",
    "        if has_ff:\n",
    "            x1_ = pre_layer(name_prefix=f\"block_{block_index}_atom_ff\")(a)\n",
    "            x2_ = pre_layer(name_prefix=f\"block_{block_index}_bond_ff\")(b)\n",
    "            x3_ = pre_layer(name_prefix=f\"block_{block_index}_state_ff\")(c)\n",
    "        else:\n",
    "            x1_ = a\n",
    "            x2_ = b\n",
    "            x3_ = c\n",
    "        out = MEGNetLayer(\n",
    "            [n1, n2, n3],\n",
    "            [n1, n2, n3],\n",
    "            [n1, n2, n3],\n",
    "            pool_method=\"mean\",\n",
    "            activation=act,\n",
    "            kernel_regularizer=None,\n",
    "            name=f\"megnet_{block_index}\",\n",
    "        )([x1_, x2_, x3_, x4, x5, x6, x7])\n",
    "    \n",
    "        # возвращает три тензора - для атомов, связей и состояний\n",
    "        x1_temp = out[0]\n",
    "        x2_temp = out[1]\n",
    "        x3_temp = out[2]\n",
    "      \n",
    "        return x1_temp, x2_temp, x3_temp\n",
    "\n",
    "    x1_ = pre_layer(name_prefix=\"preblock_atom\")(x1_)\n",
    "    x2_ = pre_layer(name_prefix=\"preblock_bond\")(x2_)\n",
    "    x3_ = pre_layer(name_prefix=\"preblock_state\")(x3_)\n",
    "    for i in range(nblocks):\n",
    "        if i == 0:\n",
    "            has_ff = False\n",
    "        else:\n",
    "            has_ff = True\n",
    "        x1_1 = x1_\n",
    "        x2_1 = x2_\n",
    "        x3_1 = x3_\n",
    "        x1_1, x2_1, x3_1 = one_block(x1_1, x2_1, x3_1, has_ff, block_index=i)\n",
    "        # добавляем skip connection\n",
    "        x1_ = Add(name=f\"block_{i}_add_atom\")([x1_, x1_1])\n",
    "        x2_ = Add(name=f\"block_{i}_add_bond\")([x2_, x2_1])\n",
    "        x3_ = Add(name=f\"block_{i}_add_state\")([x3_, x3_1])\n",
    "\n",
    "\n",
    "    # выполняем Set2Set для атомов и связей\n",
    "    node_vec = Set2Set(T=npass, n_hidden=n3, name=\"set2set_atom\")([x1_, x6])\n",
    "    edge_vec = Set2Set(T=npass, n_hidden=n3, name=\"set2set_bond\")([x2_, x7])\n",
    "    # итоговые векторы для атомов, связей и глобальные вектора конкатенируются в один вектор\n",
    "    final_vec = Concatenate(axis=-1)([node_vec, edge_vec, x3_])\n",
    "\n",
    "    # применяем слой пост-обработки к final_vec\n",
    "    final_vec = post_layer(name_prefix='post_process_layer')(final_vec)\n",
    "\n",
    "    out = Dense(ntarget, name=\"readout_2\")(final_vec)\n",
    "    model = Model(inputs=[x1, x2, x3, x4, x5, x6, x7], outputs=out)\n",
    "    return model"
   ],
   "metadata": {
    "collapsed": false,
    "ExecuteTime": {
     "end_time": "2024-01-22T10:41:48.974941Z",
     "start_time": "2024-01-22T10:41:48.917505Z"
    }
   },
   "id": "9cc9db98ee5eb2ff"
  },
  {
   "cell_type": "markdown",
   "source": [
    "# Training"
   ],
   "metadata": {
    "collapsed": false
   },
   "id": "9cc71638abb3d66f"
  },
  {
   "cell_type": "code",
   "execution_count": 42,
   "outputs": [
    {
     "name": "stderr",
     "output_type": "stream",
     "text": [
      "/Users/khumachbayramova/anaconda3/envs/graph-neural-network2/lib/python3.9/site-packages/keras/initializers/initializers_v2.py:120: UserWarning: The initializer GlorotUniform is unseeded and being called multiple times, which will return identical values  each time (even if the initializer is unseeded). Please update your code to provide a seed to the initializer, or avoid using the same initalizer instance more than once.\n",
      "  warnings.warn(\n"
     ]
    },
    {
     "name": "stdout",
     "output_type": "stream",
     "text": [
      "Model: \"model_8\"\n",
      "__________________________________________________________________________________________________\n",
      " Layer (type)                   Output Shape         Param #     Connected to                     \n",
      "==================================================================================================\n",
      " atom_int_input (InputLayer)    [(None, None)]       0           []                               \n",
      "                                                                                                  \n",
      " bond_float_input (InputLayer)  [(None, None)]       0           []                               \n",
      "                                                                                                  \n",
      " atom_embedding (Embedding)     (None, None, 16)     1520        ['atom_int_input[0][0]']         \n",
      "                                                                                                  \n",
      " gaussian_expansion_9 (Gaussian  (None, None, 10)    0           ['bond_float_input[0][0]']       \n",
      " Expansion)                                                                                       \n",
      "                                                                                                  \n",
      " state_default_input (InputLaye  [(None, None, 2)]   0           []                               \n",
      " r)                                                                                               \n",
      "                                                                                                  \n",
      " preblock_atom (PreConvLayer)   (None, None, 32)     9312        ['atom_embedding[0][0]']         \n",
      "                                                                                                  \n",
      " preblock_bond (PreConvLayer)   (None, None, 32)     8160        ['gaussian_expansion_9[0][0]']   \n",
      "                                                                                                  \n",
      " preblock_state (PreConvLayer)  (None, None, 32)     6624        ['state_default_input[0][0]']    \n",
      "                                                                                                  \n",
      " bond_index_1_input (InputLayer  [(None, None)]      0           []                               \n",
      " )                                                                                                \n",
      "                                                                                                  \n",
      " bond_index_2_input (InputLayer  [(None, None)]      0           []                               \n",
      " )                                                                                                \n",
      "                                                                                                  \n",
      " atom_graph_index_input (InputL  [(None, None)]      0           []                               \n",
      " ayer)                                                                                            \n",
      "                                                                                                  \n",
      " bond_graph_index_input (InputL  [(None, None)]      0           []                               \n",
      " ayer)                                                                                            \n",
      "                                                                                                  \n",
      " megnet_0 (MEGNetLayer)         [(None, None, 32),   30080       ['preblock_atom[0][0]',          \n",
      "                                 (None, None, 32),                'preblock_bond[0][0]',          \n",
      "                                 (1, None, 32)]                   'preblock_state[0][0]',         \n",
      "                                                                  'bond_index_1_input[0][0]',     \n",
      "                                                                  'bond_index_2_input[0][0]',     \n",
      "                                                                  'atom_graph_index_input[0][0]', \n",
      "                                                                  'bond_graph_index_input[0][0]'] \n",
      "                                                                                                  \n",
      " block_0_add_atom (Add)         (None, None, 32)     0           ['preblock_atom[0][0]',          \n",
      "                                                                  'megnet_0[0][0]']               \n",
      "                                                                                                  \n",
      " block_0_add_bond (Add)         (None, None, 32)     0           ['preblock_bond[0][0]',          \n",
      "                                                                  'megnet_0[0][1]']               \n",
      "                                                                                                  \n",
      " block_0_add_state (Add)        (None, None, 32)     0           ['preblock_state[0][0]',         \n",
      "                                                                  'megnet_0[0][2]']               \n",
      "                                                                                                  \n",
      " block_1_atom_ff (PreConvLayer)  (None, None, 32)    12384       ['block_0_add_atom[0][0]']       \n",
      "                                                                                                  \n",
      " block_1_bond_ff (PreConvLayer)  (None, None, 32)    12384       ['block_0_add_bond[0][0]']       \n",
      "                                                                                                  \n",
      " block_1_state_ff (PreConvLayer  (None, None, 32)    12384       ['block_0_add_state[0][0]']      \n",
      " )                                                                                                \n",
      "                                                                                                  \n",
      " megnet_1 (MEGNetLayer)         [(None, None, 32),   30080       ['block_1_atom_ff[0][0]',        \n",
      "                                 (None, None, 32),                'block_1_bond_ff[0][0]',        \n",
      "                                 (1, None, 32)]                   'block_1_state_ff[0][0]',       \n",
      "                                                                  'bond_index_1_input[0][0]',     \n",
      "                                                                  'bond_index_2_input[0][0]',     \n",
      "                                                                  'atom_graph_index_input[0][0]', \n",
      "                                                                  'bond_graph_index_input[0][0]'] \n",
      "                                                                                                  \n",
      " block_1_add_atom (Add)         (None, None, 32)     0           ['block_0_add_atom[0][0]',       \n",
      "                                                                  'megnet_1[0][0]']               \n",
      "                                                                                                  \n",
      " block_1_add_bond (Add)         (None, None, 32)     0           ['block_0_add_bond[0][0]',       \n",
      "                                                                  'megnet_1[0][1]']               \n",
      "                                                                                                  \n",
      " block_1_add_state (Add)        (None, None, 32)     0           ['block_0_add_state[0][0]',      \n",
      "                                                                  'megnet_1[0][2]']               \n",
      "                                                                                                  \n",
      " block_2_atom_ff (PreConvLayer)  (None, None, 32)    12384       ['block_1_add_atom[0][0]']       \n",
      "                                                                                                  \n",
      " block_2_bond_ff (PreConvLayer)  (None, None, 32)    12384       ['block_1_add_bond[0][0]']       \n",
      "                                                                                                  \n",
      " block_2_state_ff (PreConvLayer  (None, None, 32)    12384       ['block_1_add_state[0][0]']      \n",
      " )                                                                                                \n",
      "                                                                                                  \n",
      " megnet_2 (MEGNetLayer)         [(None, None, 32),   30080       ['block_2_atom_ff[0][0]',        \n",
      "                                 (None, None, 32),                'block_2_bond_ff[0][0]',        \n",
      "                                 (1, None, 32)]                   'block_2_state_ff[0][0]',       \n",
      "                                                                  'bond_index_1_input[0][0]',     \n",
      "                                                                  'bond_index_2_input[0][0]',     \n",
      "                                                                  'atom_graph_index_input[0][0]', \n",
      "                                                                  'bond_graph_index_input[0][0]'] \n",
      "                                                                                                  \n",
      " block_2_add_atom (Add)         (None, None, 32)     0           ['block_1_add_atom[0][0]',       \n",
      "                                                                  'megnet_2[0][0]']               \n",
      "                                                                                                  \n",
      " block_2_add_bond (Add)         (None, None, 32)     0           ['block_1_add_bond[0][0]',       \n",
      "                                                                  'megnet_2[0][1]']               \n",
      "                                                                                                  \n",
      " set2set_atom (Set2Set)         (None, None, 64)     9376        ['block_2_add_atom[0][0]',       \n",
      "                                                                  'atom_graph_index_input[0][0]'] \n",
      "                                                                                                  \n",
      " set2set_bond (Set2Set)         (None, None, 64)     9376        ['block_2_add_bond[0][0]',       \n",
      "                                                                  'bond_graph_index_input[0][0]'] \n",
      "                                                                                                  \n",
      " block_2_add_state (Add)        (None, None, 32)     0           ['block_1_add_state[0][0]',      \n",
      "                                                                  'megnet_2[0][2]']               \n",
      "                                                                                                  \n",
      " concatenate_8 (Concatenate)    (None, None, 160)    0           ['set2set_atom[0][0]',           \n",
      "                                                                  'set2set_bond[0][0]',           \n",
      "                                                                  'block_2_add_state[0][0]']      \n",
      "                                                                                                  \n",
      " post_process_layer (PostDenseL  (None, None, 16)    5680        ['concatenate_8[0][0]']          \n",
      " ayer)                                                                                            \n",
      "                                                                                                  \n",
      " readout_2 (Dense)              (None, None, 1)      17          ['post_process_layer[0][0]']     \n",
      "                                                                                                  \n",
      "==================================================================================================\n",
      "Total params: 214,609\n",
      "Trainable params: 214,609\n",
      "Non-trainable params: 0\n",
      "__________________________________________________________________________________________________\n",
      "None\n",
      "Epoch 1/10\n",
      "18/18 [==============================] - 41s 2s/step - loss: 0.6129 - energy_within_threshold: 0.0256 - val_loss: 0.4496 - val_energy_within_threshold: 0.0000e+00\n",
      "Epoch 2/10\n",
      "18/18 [==============================] - 31s 2s/step - loss: 0.4706 - energy_within_threshold: 8.6806e-04 - val_loss: 0.4558 - val_energy_within_threshold: 0.0000e+00\n",
      "Epoch 3/10\n",
      "18/18 [==============================] - 35s 2s/step - loss: 0.4615 - energy_within_threshold: 8.6806e-04 - val_loss: 0.4585 - val_energy_within_threshold: 0.0107\n",
      "Epoch 4/10\n",
      "18/18 [==============================] - 32s 2s/step - loss: 0.4594 - energy_within_threshold: 0.0093 - val_loss: 0.4592 - val_energy_within_threshold: 0.0065\n",
      "Epoch 5/10\n",
      "18/18 [==============================] - 35s 2s/step - loss: 0.4582 - energy_within_threshold: 0.0061 - val_loss: 0.4603 - val_energy_within_threshold: 0.0107\n",
      "Epoch 6/10\n",
      "18/18 [==============================] - 32s 2s/step - loss: 0.4595 - energy_within_threshold: 0.0069 - val_loss: 0.4589 - val_energy_within_threshold: 0.0039\n",
      "Epoch 7/10\n",
      "18/18 [==============================] - 38s 2s/step - loss: 0.4565 - energy_within_threshold: 0.0056 - val_loss: 0.4610 - val_energy_within_threshold: 0.0065\n",
      "Epoch 8/10\n",
      "18/18 [==============================] - 28s 2s/step - loss: 0.4624 - energy_within_threshold: 0.0043 - val_loss: 0.4560 - val_energy_within_threshold: 0.0000e+00\n",
      "Epoch 9/10\n",
      "18/18 [==============================] - 30s 2s/step - loss: 0.4595 - energy_within_threshold: 0.0000e+00 - val_loss: 0.4580 - val_energy_within_threshold: 0.0000e+00\n",
      "Epoch 10/10\n",
      "18/18 [==============================] - 30s 2s/step - loss: 0.4574 - energy_within_threshold: 0.0022 - val_loss: 0.4600 - val_energy_within_threshold: 0.0094\n"
     ]
    },
    {
     "data": {
      "text/plain": "<__main__.GNNModel at 0x32f4f5100>"
     },
     "execution_count": 42,
     "metadata": {},
     "output_type": "execute_result"
    }
   ],
   "source": [
    "def pre_layer(name_prefix):\n",
    "        return PreConvLayer(name_prefix=name_prefix)\n",
    "\n",
    "def post_layer(name_prefix):\n",
    "        return PostDenseLayer(name_prefix=name_prefix)\n",
    "\n",
    "model = prepare_model(\n",
    "        4,\n",
    "        2e-4, \n",
    "        pre_layer,\n",
    "        post_layer\n",
    "    )\n",
    "print(model.summary())\n",
    "model.train(\n",
    "        train.structures,\n",
    "        train.targets,\n",
    "        validation_structures=test.structures,\n",
    "        validation_targets=test.targets,\n",
    "        epochs=int(10),\n",
    "        batch_size=int(128),\n",
    "        save_checkpoint=False\n",
    "    )"
   ],
   "metadata": {
    "collapsed": false,
    "ExecuteTime": {
     "end_time": "2024-01-22T10:47:27.799801Z",
     "start_time": "2024-01-22T10:41:50.656404Z"
    }
   },
   "id": "56c2d5ff765637d6"
  },
  {
   "cell_type": "markdown",
   "source": [
    "#Predict"
   ],
   "metadata": {
    "collapsed": false
   },
   "id": "efd0db20493ff801"
  },
  {
   "cell_type": "code",
   "execution_count": 22,
   "outputs": [
    {
     "name": "stderr",
     "output_type": "stream",
     "text": [
      "/Users/khumachbayramova/anaconda3/envs/graph-neural-network2/lib/python3.9/site-packages/keras/initializers/initializers_v2.py:120: UserWarning: The initializer GlorotUniform is unseeded and being called multiple times, which will return identical values  each time (even if the initializer is unseeded). Please update your code to provide a seed to the initializer, or avoid using the same initalizer instance more than once.\n",
      "  warnings.warn(\n"
     ]
    }
   ],
   "source": [
    "model = prepare_model(\n",
    "        4, 1e-4,  pre_layer,\n",
    "        post_layer\n",
    ")\n",
    "\n",
    "dataset_path = Path('dichalcogenides_private')\n",
    "struct = {item.name.strip('.json'): read_pymatgen_struct(item) for item in (dataset_path/'structures').iterdir()}\n",
    "private_test = pd.DataFrame(columns=['id', 'structures'], index=struct.keys())\n",
    "private_test = private_test.assign(structures=struct.values())\n",
    "private_test = private_test.assign(predictions=model.predict_structures(private_test.structures))\n",
    "private_test[['predictions']].to_csv('./submission.csv', index_label='id')"
   ],
   "metadata": {
    "collapsed": false,
    "ExecuteTime": {
     "end_time": "2024-01-21T20:14:59.541022Z",
     "start_time": "2024-01-21T20:14:26.225566Z"
    }
   },
   "id": "7caa985b645c95c6"
  },
  {
   "cell_type": "code",
   "execution_count": null,
   "outputs": [],
   "source": [],
   "metadata": {
    "collapsed": false
   },
   "id": "a811a6aa74c60e3c"
  }
 ],
 "metadata": {
  "kernelspec": {
   "display_name": "Python 3",
   "language": "python",
   "name": "python3"
  },
  "language_info": {
   "codemirror_mode": {
    "name": "ipython",
    "version": 2
   },
   "file_extension": ".py",
   "mimetype": "text/x-python",
   "name": "python",
   "nbconvert_exporter": "python",
   "pygments_lexer": "ipython2",
   "version": "2.7.6"
  }
 },
 "nbformat": 4,
 "nbformat_minor": 5
}
